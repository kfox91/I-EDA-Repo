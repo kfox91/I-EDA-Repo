{
 "cells": [
  {
   "cell_type": "markdown",
   "metadata": {},
   "source": [
    "# Individual Exploratory Data Analysis: AirBnB Listings"
   ]
  },
  {
   "cell_type": "markdown",
   "metadata": {},
   "source": [
    "### Read each csv file into a dictionary"
   ]
  },
  {
   "cell_type": "code",
   "execution_count": 1,
   "metadata": {},
   "outputs": [],
   "source": [
    "import csv\n",
    "from collections import Counter\n",
    "\n",
    "# initialize variable to store results in\n",
    "boston_analysis = ['Boston']\n",
    "dallas_analysis = ['Dallas']\n",
    "denver_analysis = ['Denver']\n",
    "hawaii_analysis = ['Hawaii']\n",
    "la_analysis = ['LA']\n",
    "\n",
    "\n",
    "analysis_list = [boston_analysis, dallas_analysis, denver_analysis, hawaii_analysis, la_analysis]\n",
    "all_location_analysis = []\n",
    "\n",
    "# initialize dictionary with CSV filenames\n",
    "location_files = ['Boston.csv', 'Dallas.csv', 'Denver.csv', 'Hawaii.csv', 'LA.csv']\n",
    "\n",
    "# intialize dictionaries for storing each locations' data\n",
    "boston_dict = []\n",
    "dallas_dict = []\n",
    "denver_dict = []\n",
    "hawaii_dict = []\n",
    "la_dict = []\n",
    "\n",
    "# initialize list of dictionaries for looping\n",
    "location_dict = [boston_dict, dallas_dict, denver_dict, hawaii_dict, la_dict]\n",
    "\n",
    "# loop through all CSV files\n",
    "for index, location_csv in enumerate(location_files):\n",
    "\n",
    "    # Open the CSV file for reading\n",
    "    with open(location_csv, mode='r') as file:\n",
    "\n",
    "        # Create a CSV reader with DictReader\n",
    "        csv_reader = csv.DictReader(file)\n",
    "\n",
    "        # Iterate through each row in the CSV file\n",
    "        for row in csv_reader:\n",
    "\n",
    "            # Append each row (as a dictionary) to the corresponding list\n",
    "            location_dict[index].append(row)       "
   ]
  },
  {
   "cell_type": "markdown",
   "metadata": {},
   "source": [
    "### Calulate the number of hosts with multiple listings and the number of listings with multiple hosts"
   ]
  },
  {
   "cell_type": "code",
   "execution_count": 2,
   "metadata": {},
   "outputs": [],
   "source": [
    "# initialize host_id lists for each location\n",
    "boston_host_ids = []\n",
    "dallas_host_ids = []\n",
    "denver_host_ids = []\n",
    "hawaii_host_ids = []\n",
    "la_host_ids = []\n",
    "\n",
    "# intialize locations list for iterating\n",
    "location_host_ids_list = [boston_host_ids, dallas_host_ids, denver_host_ids, hawaii_host_ids, la_host_ids]\n",
    "\n",
    "# intialize counters to analyze all locations combined\n",
    "all_location_host_ids_counter = 0\n",
    "all_location_multi_host_listing_counter = 0\n",
    "all_location_num_multi_listing_hosts = 0\n",
    "all_location_num_hosts = 0\n",
    "\n",
    "# iterate through each dictionary\n",
    "for index, dict in enumerate(location_dict):\n",
    "    for row in dict:\n",
    "        location_host_ids_list[index].append(row['host_id'])\n",
    "        all_location_host_ids_counter += 1\n",
    "\n",
    "# calculate how many listings are owned by multiple hosts\n",
    "for index, li in enumerate(location_host_ids_list):\n",
    "\n",
    "    # key = host_id (no duplicates), value = occurences of said key\n",
    "    counter_dict = Counter(li)\n",
    "\n",
    "    # reset variable's running totals for each location\n",
    "    multi_host_listings = 0\n",
    "    num_hosts = 0\n",
    "\n",
    "    # for each value in 'counter_dict' if the value does not equal 1,\n",
    "    # increase the number of multi-listing hosts by 1 and the\n",
    "    # number of listings with multiple hosts by the value\n",
    "    for i in counter_dict.values():\n",
    "        if i != 1:\n",
    "            multi_host_listings += i\n",
    "            num_hosts += 1\n",
    "            all_location_multi_host_listing_counter += i\n",
    "            all_location_num_multi_listing_hosts += 1\n",
    "    all_location_num_hosts += len(counter_dict)\n",
    "\n",
    "    \n",
    "    analysis_list[index].append(f'The number of listings with multiple hosts is {multi_host_listings} ({(multi_host_listings/len(li))*100:.2f}%)')\n",
    "    analysis_list[index].append(f'The number of hosts with multiple listings is {num_hosts} ({(num_hosts/len(counter_dict))*100:.2f}%)')\n",
    "\n"
   ]
  },
  {
   "cell_type": "markdown",
   "metadata": {},
   "source": [
    "### Find the average number of minimum nights are required to book"
   ]
  },
  {
   "cell_type": "code",
   "execution_count": 3,
   "metadata": {},
   "outputs": [],
   "source": [
    "all_location_total_num_nights = 0\n",
    "\n",
    "# iterate over each location's dictionary\n",
    "for index, location in enumerate(location_dict):\n",
    "\n",
    "    # reset running total for each location\n",
    "    total_num_nights = 0\n",
    "    for di in location:\n",
    "\n",
    "        # add \n",
    "        total_num_nights += int(di['minimum_nights'])\n",
    "\n",
    "        # get average via amount of listings and running total\n",
    "        average_num_nights = total_num_nights / len(location)\n",
    "    analysis_list[index].append(f'The average minimum number of nights required to \\\n",
    "                                book a listing in this location is {average_num_nights:.2f}')\n",
    "    all_location_total_num_nights += total_num_nights\n"
   ]
  },
  {
   "cell_type": "markdown",
   "metadata": {},
   "source": [
    "### Calculate the make up of different property types for each location"
   ]
  },
  {
   "cell_type": "code",
   "execution_count": 4,
   "metadata": {},
   "outputs": [],
   "source": [
    "all_home_apt = 0\n",
    "all_private_room = 0\n",
    "all_shared_room = 0\n",
    "all_hotel_room = 0\n",
    "\n",
    "# iterate through each location's dictionary\n",
    "for index, location in enumerate(location_dict):\n",
    "    home_apt = 0\n",
    "    private_room = 0\n",
    "    shared_room = 0\n",
    "    hotel_room = 0\n",
    "    sample_list = []\n",
    "    for di in location[:-1]:\n",
    "        if di['room_type'] == 'Entire home/apt':\n",
    "            home_apt+= 1\n",
    "        elif di['room_type'] == 'Private room':\n",
    "            private_room += 1\n",
    "        elif di['room_type'] == 'Shared room':\n",
    "            shared_room += 1\n",
    "        elif di['room_type'] == 'Hotel room':\n",
    "            hotel_room += 1\n",
    "    analysis_list[index].append(f'Homes/apts: {home_apt} ({(home_apt/len(location))*100:.2f}%)')\n",
    "    analysis_list[index].append(f'Private Rooms: {private_room} ({(private_room/len(location))*100:.2f}%)')\n",
    "    analysis_list[index].append(f'Shared Rooms: {shared_room} ({(shared_room/len(location))*100:.2f}%)')\n",
    "    analysis_list[index].append(f'Hotel Rooms: {hotel_room} ({(hotel_room/len(location))*100:.2f}%)')\n",
    "    \n",
    "    all_home_apt += home_apt\n",
    "    all_private_room += private_room\n",
    "    all_shared_room += shared_room\n",
    "    all_hotel_room += hotel_room\n"
   ]
  },
  {
   "cell_type": "code",
   "execution_count": 5,
   "metadata": {},
   "outputs": [
    {
     "name": "stdout",
     "output_type": "stream",
     "text": [
      "The number of listings with multiple hosts is:\n",
      "65019 (69.27%)\n",
      "The number of hosts with multiple listings is:\n",
      "10721 (27.10)\n",
      "The average minimum number of nights required to book a listings is:\n",
      "14.52\n",
      "Home/Apt: 75412 (80.35)\n",
      "Private Room: 17190 (18.32)\n",
      "Shared Room: 800 (0.85)\n",
      "Hotel Room: 450 (0.48)\n"
     ]
    }
   ],
   "source": [
    "print('The number of listings with multiple hosts is:')\n",
    "print(f'{all_location_multi_host_listing_counter} ({(all_location_multi_host_listing_counter/all_location_host_ids_counter)*100:.2f}%)')\n",
    "\n",
    "print('The number of hosts with multiple listings is:')\n",
    "print(f'{all_location_num_multi_listing_hosts} ({(all_location_num_multi_listing_hosts/all_location_num_hosts)*100:.2f})')\n",
    "\n",
    "print('The average minimum number of nights required to book a listings is:')\n",
    "print(f'{all_location_total_num_nights/all_location_host_ids_counter:.2f}')\n",
    "\n",
    "print(f'Home/Apt: {all_home_apt} ({(all_home_apt/all_location_host_ids_counter)*100:.2f})')\n",
    "print(f'Private Room: {all_private_room} ({(all_private_room/all_location_host_ids_counter)*100:.2f})')\n",
    "print(f'Shared Room: {all_shared_room} ({(all_shared_room/all_location_host_ids_counter)*100:.2f})')\n",
    "print(f'Hotel Room: {all_hotel_room} ({(all_hotel_room/all_location_host_ids_counter)*100:.2f})')"
   ]
  },
  {
   "cell_type": "code",
   "execution_count": 8,
   "metadata": {},
   "outputs": [
    {
     "name": "stdout",
     "output_type": "stream",
     "text": [
      "Boston\n",
      "Homes/apts: 2949 (68.18%)\n",
      "Private Rooms: 1313 (30.36%)\n",
      "Shared Rooms: 19 (0.44%)\n",
      "Hotel Rooms: 43 (0.99%)\n",
      "Dallas\n",
      "Homes/apts: 4254 (86.60%)\n",
      "Private Rooms: 553 (11.26%)\n",
      "Shared Rooms: 53 (1.08%)\n",
      "Hotel Rooms: 51 (1.04%)\n",
      "Denver\n",
      "Homes/apts: 4283 (85.39%)\n",
      "Private Rooms: 673 (13.42%)\n",
      "Shared Rooms: 37 (0.74%)\n",
      "Hotel Rooms: 22 (0.44%)\n",
      "Hawaii\n",
      "Homes/apts: 30876 (88.42%)\n",
      "Private Rooms: 3770 (10.80%)\n",
      "Shared Rooms: 47 (0.13%)\n",
      "Hotel Rooms: 226 (0.65%)\n",
      "LA\n",
      "Homes/apts: 33050 (73.96%)\n",
      "Private Rooms: 10881 (24.35%)\n",
      "Shared Rooms: 644 (1.44%)\n",
      "Hotel Rooms: 108 (0.24%)\n"
     ]
    }
   ],
   "source": [
    "for i in analysis_list:\n",
    "    print(i[0])\n",
    "    for e in i[-4:]:\n",
    "        print(e)"
   ]
  }
 ],
 "metadata": {
  "kernelspec": {
   "display_name": "Python 3",
   "language": "python",
   "name": "python3"
  },
  "language_info": {
   "codemirror_mode": {
    "name": "ipython",
    "version": 3
   },
   "file_extension": ".py",
   "mimetype": "text/x-python",
   "name": "python",
   "nbconvert_exporter": "python",
   "pygments_lexer": "ipython3",
   "version": "3.12.4"
  }
 },
 "nbformat": 4,
 "nbformat_minor": 2
}
