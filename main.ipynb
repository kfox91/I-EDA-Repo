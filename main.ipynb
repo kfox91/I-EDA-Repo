{
 "cells": [
  {
   "cell_type": "markdown",
   "metadata": {},
   "source": [
    "# Individual Exploratory Data Analysis: AirBnB Listings"
   ]
  },
  {
   "cell_type": "markdown",
   "metadata": {},
   "source": [
    "### Read each csv file into a dictionary"
   ]
  },
  {
   "cell_type": "code",
   "execution_count": 11,
   "metadata": {},
   "outputs": [
    {
     "name": "stdout",
     "output_type": "stream",
     "text": [
      "{'id': '360', 'name': 'Sit in the Peaceful Garden of the Chickadee Cottage in LoHi', 'host_id': '666', 'host_name': 'Jennifer & Giovanni', 'neighbourhood_group': '', 'neighbourhood': 'Highland', 'latitude': '39.766414642333984', 'longitude': '-105.0020980834961', 'room_type': 'Entire home/apt', 'price': '161', 'minimum_nights': '30', 'number_of_reviews': '181', 'last_review': '2024-03-02', 'reviews_per_month': '2.53', 'calculated_host_listings_count': '2', 'availability_365': '110', 'number_of_reviews_ltm': '3', 'license': '2017-BFN-0002177'}\n",
      "{'id': '364', 'name': 'Lodo / RiNo LOFT  via airport train', 'host_id': '783', 'host_name': 'Jason', 'neighbourhood_group': '', 'neighbourhood': 'Five Points', 'latitude': '39.76672', 'longitude': '-104.97906', 'room_type': 'Entire home/apt', 'price': '179', 'minimum_nights': '185', 'number_of_reviews': '87', 'last_review': '2016-04-26', 'reviews_per_month': '0.47', 'calculated_host_listings_count': '1', 'availability_365': '358', 'number_of_reviews_ltm': '0', 'license': ''}\n",
      "{'id': '590', 'name': 'Comfortable  - and a great value!', 'host_id': '933', 'host_name': 'Jill', 'neighbourhood_group': '', 'neighbourhood': 'North Park Hill', 'latitude': '39.75511', 'longitude': '-104.91109', 'room_type': 'Private room', 'price': '70', 'minimum_nights': '1', 'number_of_reviews': '726', 'last_review': '2024-05-22', 'reviews_per_month': '3.91', 'calculated_host_listings_count': '2', 'availability_365': '236', 'number_of_reviews_ltm': '24', 'license': '2021-BFN-0000578'}\n",
      "{'id': '592', 'name': 'private', 'host_id': '933', 'host_name': 'Jill', 'neighbourhood_group': '', 'neighbourhood': 'North Park Hill', 'latitude': '39.75481', 'longitude': '-104.91106', 'room_type': 'Private room', 'price': '64', 'minimum_nights': '15', 'number_of_reviews': '175', 'last_review': '2024-06-02', 'reviews_per_month': '0.94', 'calculated_host_listings_count': '2', 'availability_365': '219', 'number_of_reviews_ltm': '7', 'license': '2021-BFN-0000578'}\n",
      "{'id': '1940', 'name': 'Baker Studio: Private-full kitchen-W/D-walkable', 'host_id': '2150', 'host_name': 'Joanne', 'neighbourhood_group': '', 'neighbourhood': 'Baker', 'latitude': '39.72020510811656', 'longitude': '-104.99749898910522', 'room_type': 'Entire home/apt', 'price': '88', 'minimum_nights': '1', 'number_of_reviews': '183', 'last_review': '2024-06-27', 'reviews_per_month': '2.02', 'calculated_host_listings_count': '1', 'availability_365': '231', 'number_of_reviews_ltm': '51', 'license': '2018-BFN-0002596'}\n",
      "{'id': '21745', 'name': \"Alexandra's King Bed Room Long-term Only\", 'host_id': '990', 'host_name': 'Alexandra', 'neighbourhood_group': '', 'neighbourhood': 'North Capitol Hill', 'latitude': '39.7449', 'longitude': '-104.97711', 'room_type': 'Private room', 'price': '43', 'minimum_nights': '30', 'number_of_reviews': '236', 'last_review': '2024-04-13', 'reviews_per_month': '1.36', 'calculated_host_listings_count': '1', 'availability_365': '320', 'number_of_reviews_ltm': '2', 'license': ''}\n",
      "{'id': '31503', 'name': 'Highland Park Guest House', 'host_id': '135298', 'host_name': 'Rick', 'neighbourhood_group': '', 'neighbourhood': 'West Highland', 'latitude': '39.76179', 'longitude': '-105.02845', 'room_type': 'Entire home/apt', 'price': '108', 'minimum_nights': '4', 'number_of_reviews': '169', 'last_review': '2024-05-16', 'reviews_per_month': '1.01', 'calculated_host_listings_count': '1', 'availability_365': '318', 'number_of_reviews_ltm': '19', 'license': '2020-BFN-0000193'}\n",
      "{'id': '39405', 'name': 'LoHi Secret Garden at Mulberry at Denver Cottages', 'host_id': '666', 'host_name': 'Jennifer & Giovanni', 'neighbourhood_group': '', 'neighbourhood': 'Highland', 'latitude': '39.76605337851223', 'longitude': '-105.00307815462764', 'room_type': 'Entire home/apt', 'price': '137', 'minimum_nights': '3', 'number_of_reviews': '699', 'last_review': '2024-06-10', 'reviews_per_month': '4.13', 'calculated_host_listings_count': '2', 'availability_365': '65', 'number_of_reviews_ltm': '42', 'license': '2022-BFN-0010458'}\n",
      "{'id': '154999', 'name': 'Midland Lofts 209: In the Heart of Downtown', 'host_id': '745200', 'host_name': 'Susan', 'neighbourhood_group': '', 'neighbourhood': 'CBD', 'latitude': '39.74439', 'longitude': '-104.98927', 'room_type': 'Entire home/apt', 'price': '169', 'minimum_nights': '29', 'number_of_reviews': '11', 'last_review': '2011-12-13', 'reviews_per_month': '0.07', 'calculated_host_listings_count': '4', 'availability_365': '302', 'number_of_reviews_ltm': '0', 'license': ''}\n",
      "{'id': '192430', 'name': 'Treetop View Room East City Park 1-2 months', 'host_id': '923646', 'host_name': 'Kate', 'neighbourhood_group': '', 'neighbourhood': 'South Park Hill', 'latitude': '39.7435', 'longitude': '-104.93753', 'room_type': 'Private room', 'price': '36', 'minimum_nights': '29', 'number_of_reviews': '133', 'last_review': '2024-04-19', 'reviews_per_month': '0.85', 'calculated_host_listings_count': '1', 'availability_365': '150', 'number_of_reviews_ltm': '4', 'license': ''}\n"
     ]
    }
   ],
   "source": [
    "#import CSV module\n",
    "import csv\n",
    "\n",
    "# initilize dictionary with CSV filenames\n",
    "location_files = ['Boston.csv', 'Dallas.csv', 'Denver.csv', 'Hawaii.csv', 'LA.csv']\n",
    "\n",
    "'''\n",
    "location_file_dict = {\n",
    "    'boston' : 'Boston.csv',\n",
    "    'dallas' : 'Dallas.csv',\n",
    "    'denver' : 'Denver.csv',\n",
    "    'hawaii' : 'Hawaii.csv',\n",
    "    'la' : 'LA.csv'\n",
    "}\n",
    "'''\n",
    "\n",
    "# Method 1: Read the CSV files into lists\n",
    "'''\n",
    "# initialize lists for titles and rows\n",
    "fields = []\n",
    "rows = []\n",
    "\n",
    "# reading CSV file\n",
    "with open(boston, 'r') as csvfile:\n",
    "    # creating a csv reader object\n",
    "    csvreader = csv.reader(csvfile)\n",
    "\n",
    "    # extracting field names through first row\n",
    "    fields = next(csvreader)\n",
    "\n",
    "    # extracting each data row one by one\n",
    "    for row in csvreader:\n",
    "        rows.append(row)\n",
    "\n",
    "print(fields)\n",
    "print(rows[0][1])\n",
    "'''\n",
    "\n",
    "# Method 2: Read the CSV files into dictionaries\n",
    "\n",
    "# intialize dictionaries for storing each locations' data\n",
    "boston_dict = []\n",
    "dallas_dict = []\n",
    "denver_dict = []\n",
    "hawaii_dict = []\n",
    "la_dict = []\n",
    "\n",
    "# initialize list of dictionaries for looping\n",
    "location_dict = [boston_dict, dallas_dict, denver_dict, hawaii_dict, la_dict]\n",
    "\n",
    "# loop through all CSV files\n",
    "for index, location_csv in enumerate(location_files):\n",
    "\n",
    "    # Open the CSV file for reading\n",
    "    with open(location_csv, mode='r') as file:\n",
    "\n",
    "        # Create a CSV reader with DictReader\n",
    "        csv_reader = csv.DictReader(file)\n",
    "\n",
    "        # Iterate through each row in the CSV file\n",
    "        for row in csv_reader:\n",
    "\n",
    "            # Append each row (as a dictionary) to the corresponding list\n",
    "            location_dict[index].append(row)       \n",
    "\n",
    "for row in denver_dict[0:10]:\n",
    "    print(row)"
   ]
  },
  {
   "cell_type": "markdown",
   "metadata": {},
   "source": [
    "### Calulate the number of hosts with multiple listings"
   ]
  },
  {
   "cell_type": "code",
   "execution_count": 55,
   "metadata": {},
   "outputs": [],
   "source": [
    "# initialize host_id lists for each location\n",
    "boston_host_ids = []\n",
    "dallas_host_ids = []\n",
    "denver_host_ids = []\n",
    "hawaii_host_ids = []\n",
    "la_host_ids = []\n",
    "\n",
    "# intialize locations list for iterating\n",
    "location_host_ids_list = [boston_host_ids, dallas_host_ids, denver_host_ids, hawaii_host_ids, la_host_ids]\n",
    "\n",
    "# iterate through each dictionary\n",
    "for index, dict in enumerate(location_dict):\n",
    "    for row in dict:\n",
    "        location_host_ids_list[index].append(row['host_id'])\n",
    "\n",
    "# remove all duplicate ids in each list, and calculate how many listings were removed \n",
    "# (the # of listings with mulit-listing hosts)\n",
    "for li in location_host_ids_list:\n",
    "    set_list = set(li)\n",
    "    li.append(f'The number of listings with mulit-listing hosts is {len(li) - len(set_list)}')\n",
    "\n",
    "\n",
    "# calculate how many hosts owned multipe listings\n",
    "for li in location_host_ids_list:\n",
    "    counter = 0\n",
    "    li_copy = li[:]\n",
    "    for index, id in enumerate(li):\n",
    "        if id in li_copy[index+1:]:\n",
    "            while (li_copy.count(id)):\n",
    "                li_copy.remove(id)\n",
    "            counter += 1\n",
    "    li.append(f'The number of hosts with multiple listings is {counter}')\n",
    "            \n",
    "            \n",
    "\n",
    "\n",
    "\n",
    "\n",
    "\n"
   ]
  },
  {
   "cell_type": "code",
   "execution_count": 57,
   "metadata": {},
   "outputs": [
    {
     "name": "stdout",
     "output_type": "stream",
     "text": [
      "['The number of listings with mulit-listing hosts is 2915', 'The number of hosts with multiple listings is 175']\n"
     ]
    }
   ],
   "source": [
    "print(boston_host_ids[-2:])"
   ]
  }
 ],
 "metadata": {
  "kernelspec": {
   "display_name": "Python 3",
   "language": "python",
   "name": "python3"
  },
  "language_info": {
   "codemirror_mode": {
    "name": "ipython",
    "version": 3
   },
   "file_extension": ".py",
   "mimetype": "text/x-python",
   "name": "python",
   "nbconvert_exporter": "python",
   "pygments_lexer": "ipython3",
   "version": "3.12.4"
  }
 },
 "nbformat": 4,
 "nbformat_minor": 2
}
