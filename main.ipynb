{
 "cells": [
  {
   "cell_type": "markdown",
   "metadata": {},
   "source": [
    "# Individual Exploratory Data Analysis: AirBnB Listings"
   ]
  },
  {
   "cell_type": "markdown",
   "metadata": {},
   "source": [
    "### Read each csv file into a dictionary"
   ]
  },
  {
   "cell_type": "code",
   "execution_count": 2,
   "metadata": {},
   "outputs": [
    {
     "name": "stdout",
     "output_type": "stream",
     "text": [
      "{'id': '109', 'name': 'Amazing bright elegant condo park front *UPGRADED*', 'host_id': '521', 'host_name': 'Paolo', 'neighbourhood_group': 'Other Cities', 'neighbourhood': 'Culver City', 'latitude': '33.98301', 'longitude': '-118.38607', 'room_type': 'Entire home/apt', 'price': '129', 'minimum_nights': '30', 'number_of_reviews': '2', 'last_review': '2016-05-15', 'reviews_per_month': '0.01', 'calculated_host_listings_count': '1', 'availability_365': '13', 'number_of_reviews_ltm': '0', 'license': ''}\n",
      "{'id': '2708', 'name': 'Runyon Canyon | Beau Furn Mirror Mini-Suite Firplc', 'host_id': '3008', 'host_name': 'Chas.', 'neighbourhood_group': 'City of Los Angeles', 'neighbourhood': 'Hollywood', 'latitude': '34.09625', 'longitude': '-118.34605', 'room_type': 'Private room', 'price': '89', 'minimum_nights': '30', 'number_of_reviews': '41', 'last_review': '2024-03-07', 'reviews_per_month': '0.34', 'calculated_host_listings_count': '2', 'availability_365': '317', 'number_of_reviews_ltm': '2', 'license': ''}\n",
      "{'id': '24349', 'name': 'The Wolford House, a Mid Century Hilltop Jewel', 'host_id': '98565', 'host_name': 'Zara', 'neighbourhood_group': 'City of Los Angeles', 'neighbourhood': 'Mount Washington', 'latitude': '34.10942', 'longitude': '-118.22003', 'room_type': 'Entire home/apt', 'price': '450', 'minimum_nights': '30', 'number_of_reviews': '175', 'last_review': '2024-03-20', 'reviews_per_month': '1.62', 'calculated_host_listings_count': '1', 'availability_365': '296', 'number_of_reviews_ltm': '8', 'license': 'HSR21-002783'}\n",
      "{'id': '2732', 'name': 'Zen Life at the Beach', 'host_id': '3041', 'host_name': 'Yoga Priestess', 'neighbourhood_group': 'Other Cities', 'neighbourhood': 'Santa Monica', 'latitude': '34.0044', 'longitude': '-118.48095', 'room_type': 'Private room', 'price': '139', 'minimum_nights': '7', 'number_of_reviews': '24', 'last_review': '2022-08-21', 'reviews_per_month': '0.15', 'calculated_host_listings_count': '2', 'availability_365': '294', 'number_of_reviews_ltm': '0', 'license': '228269'}\n",
      "{'id': '2864', 'name': '* Beautiful Master Suite/Jacuzzi Tub/*', 'host_id': '3207', 'host_name': 'Bernadine', 'neighbourhood_group': 'Other Cities', 'neighbourhood': 'Bellflower', 'latitude': '33.8749', 'longitude': '-118.11515', 'room_type': 'Entire home/apt', 'price': '', 'minimum_nights': '30', 'number_of_reviews': '0', 'last_review': '', 'reviews_per_month': '', 'calculated_host_listings_count': '1', 'availability_365': '0', 'number_of_reviews_ltm': '0', 'license': ''}\n",
      "{'id': '25670', 'name': 'Charming accommodations in Westwood/West LA', 'host_id': '107370', 'host_name': 'Sandra', 'neighbourhood_group': 'City of Los Angeles', 'neighbourhood': 'West Los Angeles', 'latitude': '34.04579', 'longitude': '-118.44166', 'room_type': 'Entire home/apt', 'price': '101', 'minimum_nights': '30', 'number_of_reviews': '19', 'last_review': '2021-04-21', 'reviews_per_month': '0.12', 'calculated_host_listings_count': '1', 'availability_365': '365', 'number_of_reviews_ltm': '0', 'license': 'Exempt - This listing is a bed and breakfast'}\n",
      "{'id': '26082', 'name': 'Asian Pacific Suite', 'host_id': '11619', 'host_name': 'Sarah', 'neighbourhood_group': 'City of Los Angeles', 'neighbourhood': 'Woodland Hills', 'latitude': '34.1674', 'longitude': '-118.64293', 'room_type': 'Private room', 'price': '', 'minimum_nights': '30', 'number_of_reviews': '26', 'last_review': '2020-03-12', 'reviews_per_month': '0.16', 'calculated_host_listings_count': '5', 'availability_365': '0', 'number_of_reviews_ltm': '0', 'license': ''}\n",
      "{'id': '6033', 'name': 'Poolside Serenity Studio', 'host_id': '11619', 'host_name': 'Sarah', 'neighbourhood_group': 'City of Los Angeles', 'neighbourhood': 'Woodland Hills', 'latitude': '34.16887', 'longitude': '-118.64478', 'room_type': 'Entire home/apt', 'price': '', 'minimum_nights': '30', 'number_of_reviews': '20', 'last_review': '2020-03-22', 'reviews_per_month': '0.11', 'calculated_host_listings_count': '5', 'availability_365': '0', 'number_of_reviews_ltm': '0', 'license': ''}\n",
      "{'id': '6931', 'name': 'RUN Runyon, Beau Furn Rms w/ Stunning Terrace View', 'host_id': '3008', 'host_name': 'Chas.', 'neighbourhood_group': 'City of Los Angeles', 'neighbourhood': 'Hollywood', 'latitude': '34.0949', 'longitude': '-118.34766', 'room_type': 'Private room', 'price': '109', 'minimum_nights': '30', 'number_of_reviews': '33', 'last_review': '2024-05-23', 'reviews_per_month': '0.18', 'calculated_host_listings_count': '2', 'availability_365': '304', 'number_of_reviews_ltm': '3', 'license': ''}\n",
      "{'id': '30470', 'name': 'Guest suite in a craftsman house, walk to studios', 'host_id': '105868', 'host_name': 'Luu', 'neighbourhood_group': 'Other Cities', 'neighbourhood': 'Culver City', 'latitude': '34.02496', 'longitude': '-118.38513', 'room_type': 'Private room', 'price': '170', 'minimum_nights': '1', 'number_of_reviews': '32', 'last_review': '2024-03-17', 'reviews_per_month': '1.25', 'calculated_host_listings_count': '1', 'availability_365': '346', 'number_of_reviews_ltm': '9', 'license': ''}\n"
     ]
    }
   ],
   "source": [
    "import csv\n",
    "from collections import Counter\n",
    "\n",
    "# initilize dictionary with CSV filenames\n",
    "location_files = ['Boston.csv', 'Dallas.csv', 'Denver.csv', 'LA.csv', 'Hawaii.csv']\n",
    "\n",
    "'''\n",
    "location_file_dict = {\n",
    "    'boston' : 'Boston.csv',\n",
    "    'dallas' : 'Dallas.csv',\n",
    "    'denver' : 'Denver.csv',\n",
    "    'hawaii' : 'Hawaii.csv',\n",
    "    'la' : 'LA.csv'\n",
    "}\n",
    "'''\n",
    "\n",
    "# Method 1: Read the CSV files into lists\n",
    "'''\n",
    "# initialize lists for titles and rows\n",
    "fields = []\n",
    "rows = []\n",
    "\n",
    "# reading CSV file\n",
    "with open(boston, 'r') as csvfile:\n",
    "    # creating a csv reader object\n",
    "    csvreader = csv.reader(csvfile)\n",
    "\n",
    "    # extracting field names through first row\n",
    "    fields = next(csvreader)\n",
    "\n",
    "    # extracting each data row one by one\n",
    "    for row in csvreader:\n",
    "        rows.append(row)\n",
    "\n",
    "print(fields)\n",
    "print(rows[0][1])\n",
    "'''\n",
    "\n",
    "# Method 2: Read the CSV files into dictionaries\n",
    "\n",
    "# intialize dictionaries for storing each locations' data\n",
    "boston_dict = []\n",
    "dallas_dict = []\n",
    "denver_dict = []\n",
    "hawaii_dict = []\n",
    "la_dict = []\n",
    "\n",
    "# initialize list of dictionaries for looping\n",
    "location_dict = [boston_dict, dallas_dict, denver_dict, la_dict, hawaii_dict]\n",
    "\n",
    "# loop through all CSV files\n",
    "for index, location_csv in enumerate(location_files):\n",
    "\n",
    "    # Open the CSV file for reading\n",
    "    with open(location_csv, mode='r') as file:\n",
    "\n",
    "        # Create a CSV reader with DictReader\n",
    "        csv_reader = csv.DictReader(file)\n",
    "\n",
    "        # Iterate through each row in the CSV file\n",
    "        for row in csv_reader:\n",
    "\n",
    "            # Append each row (as a dictionary) to the corresponding list\n",
    "            location_dict[index].append(row)       \n",
    "\n",
    "for row in la_dict[0:10]:\n",
    "    print(row)"
   ]
  },
  {
   "cell_type": "markdown",
   "metadata": {},
   "source": [
    "### Calulate the number of hosts with multiple listings and the number of listings with multiple hosts"
   ]
  },
  {
   "cell_type": "code",
   "execution_count": 3,
   "metadata": {},
   "outputs": [
    {
     "data": {
      "text/plain": [
       "\"\\n# calculate how many hosts owned multipe listings\\nfor li in location_host_ids_list:\\n\\n    # create copy of current list being iterated\\n    li_copy = li[:]\\n\\n    # counts how many hosts have multiple listings\\n    counter = 0\\n\\n    for index, id in enumerate(li):\\n        if id in li[index+1:] and id in li_copy:\\n            counter += 1\\n            while id in li_copy:\\n                li_copy.remove(id)\\n    li.append(f'The number of hosts with multiple listings is {counter}')\\n\""
      ]
     },
     "execution_count": 3,
     "metadata": {},
     "output_type": "execute_result"
    }
   ],
   "source": [
    "# initialize host_id lists for each location\n",
    "boston_host_ids = []\n",
    "dallas_host_ids = []\n",
    "denver_host_ids = []\n",
    "hawaii_host_ids = []\n",
    "la_host_ids = []\n",
    "\n",
    "# intialize locations list for iterating\n",
    "location_host_ids_list = [boston_host_ids, dallas_host_ids, denver_host_ids, la_host_ids, hawaii_host_ids]\n",
    "\n",
    "# iterate through each dictionary\n",
    "for index, dict in enumerate(location_dict):\n",
    "    for row in dict:\n",
    "        location_host_ids_list[index].append(row['host_id'])\n",
    "\n",
    "# calculate how many listings are owned by multiple hosts\n",
    "for li in location_host_ids_list:\n",
    "    # key = host_id (no duplicates), value = occurences of said key\n",
    "    counter_dict = Counter(li)\n",
    "    multi_host_listings = 0\n",
    "    num_hosts = 0\n",
    "    for i in counter_dict.values():\n",
    "        if i != 1:\n",
    "            multi_host_listings += i\n",
    "            num_hosts += 1\n",
    "    li.append(f'The number of listings with multiple hosts is {multi_host_listings}')\n",
    "    li.append(f'The number of hosts with multiple listings is {num_hosts}')\n",
    "\n",
    "'''\n",
    "# calculate how many hosts owned multipe listings\n",
    "for li in location_host_ids_list:\n",
    "\n",
    "    # create copy of current list being iterated\n",
    "    li_copy = li[:]\n",
    "\n",
    "    # counts how many hosts have multiple listings\n",
    "    counter = 0\n",
    "\n",
    "    for index, id in enumerate(li):\n",
    "        if id in li[index+1:] and id in li_copy:\n",
    "            counter += 1\n",
    "            while id in li_copy:\n",
    "                li_copy.remove(id)\n",
    "    li.append(f'The number of hosts with multiple listings is {counter}')\n",
    "'''\n",
    "\n",
    "\n"
   ]
  },
  {
   "cell_type": "markdown",
   "metadata": {},
   "source": [
    "### Find the average number of minimum nights are required to book"
   ]
  },
  {
   "cell_type": "code",
   "execution_count": 4,
   "metadata": {},
   "outputs": [
    {
     "name": "stdout",
     "output_type": "stream",
     "text": [
      "The average minimum number of nights required to book a listing in this location is 27.796763005780345\n"
     ]
    }
   ],
   "source": [
    "for location in location_dict:\n",
    "    total_num_nights = 0\n",
    "    for di in location:\n",
    "        total_num_nights += int(di['minimum_nights'])\n",
    "        average_num_nights = total_num_nights / len(location)\n",
    "    location.append(f'The average minimum number of nights required to book a listing in this location is {average_num_nights}')\n",
    "\n",
    "print(boston_dict[-1])\n"
   ]
  }
 ],
 "metadata": {
  "kernelspec": {
   "display_name": "Python 3",
   "language": "python",
   "name": "python3"
  },
  "language_info": {
   "codemirror_mode": {
    "name": "ipython",
    "version": 3
   },
   "file_extension": ".py",
   "mimetype": "text/x-python",
   "name": "python",
   "nbconvert_exporter": "python",
   "pygments_lexer": "ipython3",
   "version": "3.12.4"
  }
 },
 "nbformat": 4,
 "nbformat_minor": 2
}
